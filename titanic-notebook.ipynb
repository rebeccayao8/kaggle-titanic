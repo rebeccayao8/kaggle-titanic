{
 "cells": [
  {
   "cell_type": "code",
   "execution_count": 1,
   "metadata": {
    "_cell_guid": "b1076dfc-b9ad-4769-8c92-a6c4dae69d19",
    "_uuid": "8f2839f25d086af736a60e9eeb907d3b93b6e0e5",
    "execution": {
     "iopub.execute_input": "2020-12-19T01:36:44.485907Z",
     "iopub.status.busy": "2020-12-19T01:36:44.483725Z",
     "iopub.status.idle": "2020-12-19T01:36:45.598296Z",
     "shell.execute_reply": "2020-12-19T01:36:45.598871Z"
    },
    "papermill": {
     "duration": 1.165817,
     "end_time": "2020-12-19T01:36:45.599060",
     "exception": false,
     "start_time": "2020-12-19T01:36:44.433243",
     "status": "completed"
    },
    "tags": []
   },
   "outputs": [
    {
     "name": "stdout",
     "output_type": "stream",
     "text": [
      "/kaggle/input/titanic/train.csv\n",
      "/kaggle/input/titanic/test.csv\n",
      "/kaggle/input/titanic/gender_submission.csv\n"
     ]
    }
   ],
   "source": [
    "# This Python 3 environment comes with many helpful analytics libraries installed\n",
    "# It is defined by the kaggle/python Docker image: https://github.com/kaggle/docker-python\n",
    "# For example, here's several helpful packages to load\n",
    "\n",
    "import numpy as np # linear algebra\n",
    "import pandas as pd # data processing, CSV file I/O (e.g. pd.read_csv)\n",
    "import seaborn as sns\n",
    "import matplotlib.pyplot as plt\n",
    "\n",
    "# Input data files are available in the read-only \"../input/\" directory\n",
    "# For example, running this (by clicking run or pressing Shift+Enter) will list all files under the input directory\n",
    "\n",
    "import os\n",
    "for dirname, _, filenames in os.walk('/kaggle/input'):\n",
    "    for filename in filenames:\n",
    "        print(os.path.join(dirname, filename))\n",
    "\n",
    "# You can write up to 20GB to the current directory (/kaggle/working/) that gets preserved as output when you create a version using \"Save & Run All\" \n",
    "# You can also write temporary files to /kaggle/temp/, but they won't be saved outside of the current session\n",
    "%matplotlib inline "
   ]
  },
  {
   "cell_type": "code",
   "execution_count": 2,
   "metadata": {
    "execution": {
     "iopub.execute_input": "2020-12-19T01:36:45.689585Z",
     "iopub.status.busy": "2020-12-19T01:36:45.688803Z",
     "iopub.status.idle": "2020-12-19T01:36:45.739568Z",
     "shell.execute_reply": "2020-12-19T01:36:45.738963Z"
    },
    "papermill": {
     "duration": 0.09911,
     "end_time": "2020-12-19T01:36:45.739694",
     "exception": false,
     "start_time": "2020-12-19T01:36:45.640584",
     "status": "completed"
    },
    "tags": []
   },
   "outputs": [
    {
     "data": {
      "text/html": [
       "<div>\n",
       "<style scoped>\n",
       "    .dataframe tbody tr th:only-of-type {\n",
       "        vertical-align: middle;\n",
       "    }\n",
       "\n",
       "    .dataframe tbody tr th {\n",
       "        vertical-align: top;\n",
       "    }\n",
       "\n",
       "    .dataframe thead th {\n",
       "        text-align: right;\n",
       "    }\n",
       "</style>\n",
       "<table border=\"1\" class=\"dataframe\">\n",
       "  <thead>\n",
       "    <tr style=\"text-align: right;\">\n",
       "      <th></th>\n",
       "      <th>PassengerId</th>\n",
       "      <th>Survived</th>\n",
       "      <th>Pclass</th>\n",
       "      <th>Name</th>\n",
       "      <th>Sex</th>\n",
       "      <th>Age</th>\n",
       "      <th>SibSp</th>\n",
       "      <th>Parch</th>\n",
       "      <th>Ticket</th>\n",
       "      <th>Fare</th>\n",
       "      <th>Cabin</th>\n",
       "      <th>Embarked</th>\n",
       "    </tr>\n",
       "  </thead>\n",
       "  <tbody>\n",
       "    <tr>\n",
       "      <th>0</th>\n",
       "      <td>1</td>\n",
       "      <td>0</td>\n",
       "      <td>3</td>\n",
       "      <td>Braund, Mr. Owen Harris</td>\n",
       "      <td>male</td>\n",
       "      <td>22.0</td>\n",
       "      <td>1</td>\n",
       "      <td>0</td>\n",
       "      <td>A/5 21171</td>\n",
       "      <td>7.2500</td>\n",
       "      <td>NaN</td>\n",
       "      <td>S</td>\n",
       "    </tr>\n",
       "    <tr>\n",
       "      <th>1</th>\n",
       "      <td>2</td>\n",
       "      <td>1</td>\n",
       "      <td>1</td>\n",
       "      <td>Cumings, Mrs. John Bradley (Florence Briggs Th...</td>\n",
       "      <td>female</td>\n",
       "      <td>38.0</td>\n",
       "      <td>1</td>\n",
       "      <td>0</td>\n",
       "      <td>PC 17599</td>\n",
       "      <td>71.2833</td>\n",
       "      <td>C85</td>\n",
       "      <td>C</td>\n",
       "    </tr>\n",
       "    <tr>\n",
       "      <th>2</th>\n",
       "      <td>3</td>\n",
       "      <td>1</td>\n",
       "      <td>3</td>\n",
       "      <td>Heikkinen, Miss. Laina</td>\n",
       "      <td>female</td>\n",
       "      <td>26.0</td>\n",
       "      <td>0</td>\n",
       "      <td>0</td>\n",
       "      <td>STON/O2. 3101282</td>\n",
       "      <td>7.9250</td>\n",
       "      <td>NaN</td>\n",
       "      <td>S</td>\n",
       "    </tr>\n",
       "    <tr>\n",
       "      <th>3</th>\n",
       "      <td>4</td>\n",
       "      <td>1</td>\n",
       "      <td>1</td>\n",
       "      <td>Futrelle, Mrs. Jacques Heath (Lily May Peel)</td>\n",
       "      <td>female</td>\n",
       "      <td>35.0</td>\n",
       "      <td>1</td>\n",
       "      <td>0</td>\n",
       "      <td>113803</td>\n",
       "      <td>53.1000</td>\n",
       "      <td>C123</td>\n",
       "      <td>S</td>\n",
       "    </tr>\n",
       "    <tr>\n",
       "      <th>4</th>\n",
       "      <td>5</td>\n",
       "      <td>0</td>\n",
       "      <td>3</td>\n",
       "      <td>Allen, Mr. William Henry</td>\n",
       "      <td>male</td>\n",
       "      <td>35.0</td>\n",
       "      <td>0</td>\n",
       "      <td>0</td>\n",
       "      <td>373450</td>\n",
       "      <td>8.0500</td>\n",
       "      <td>NaN</td>\n",
       "      <td>S</td>\n",
       "    </tr>\n",
       "  </tbody>\n",
       "</table>\n",
       "</div>"
      ],
      "text/plain": [
       "   PassengerId  Survived  Pclass  \\\n",
       "0            1         0       3   \n",
       "1            2         1       1   \n",
       "2            3         1       3   \n",
       "3            4         1       1   \n",
       "4            5         0       3   \n",
       "\n",
       "                                                Name     Sex   Age  SibSp  \\\n",
       "0                            Braund, Mr. Owen Harris    male  22.0      1   \n",
       "1  Cumings, Mrs. John Bradley (Florence Briggs Th...  female  38.0      1   \n",
       "2                             Heikkinen, Miss. Laina  female  26.0      0   \n",
       "3       Futrelle, Mrs. Jacques Heath (Lily May Peel)  female  35.0      1   \n",
       "4                           Allen, Mr. William Henry    male  35.0      0   \n",
       "\n",
       "   Parch            Ticket     Fare Cabin Embarked  \n",
       "0      0         A/5 21171   7.2500   NaN        S  \n",
       "1      0          PC 17599  71.2833   C85        C  \n",
       "2      0  STON/O2. 3101282   7.9250   NaN        S  \n",
       "3      0            113803  53.1000  C123        S  \n",
       "4      0            373450   8.0500   NaN        S  "
      ]
     },
     "execution_count": 2,
     "metadata": {},
     "output_type": "execute_result"
    }
   ],
   "source": [
    "# Load data \n",
    "train_data = pd.read_csv('/kaggle/input/titanic/train.csv')\n",
    "test_data = pd.read_csv('/kaggle/input/titanic/test.csv')\n",
    "\n",
    "test_data['Survived'] = np.NaN\n",
    "\n",
    "train_data.head()"
   ]
  },
  {
   "cell_type": "markdown",
   "metadata": {
    "papermill": {
     "duration": 0.042565,
     "end_time": "2020-12-19T01:36:45.823967",
     "exception": false,
     "start_time": "2020-12-19T01:36:45.781402",
     "status": "completed"
    },
    "tags": []
   },
   "source": [
    "# Project Planning"
   ]
  },
  {
   "cell_type": "code",
   "execution_count": 3,
   "metadata": {
    "execution": {
     "iopub.execute_input": "2020-12-19T01:36:45.915439Z",
     "iopub.status.busy": "2020-12-19T01:36:45.914566Z",
     "iopub.status.idle": "2020-12-19T01:36:45.917745Z",
     "shell.execute_reply": "2020-12-19T01:36:45.917101Z"
    },
    "papermill": {
     "duration": 0.052045,
     "end_time": "2020-12-19T01:36:45.917870",
     "exception": false,
     "start_time": "2020-12-19T01:36:45.865825",
     "status": "completed"
    },
    "tags": []
   },
   "outputs": [],
   "source": [
    "# Understand nature of the data .info() and .describe()\n",
    "# Histograms and boxplots\n",
    "# Value counts\n",
    "# Missing data\n",
    "# Correlation between metrics\n",
    "# Explore interesting themes ?\n",
    "    # Wealthy survive?\n",
    "    # By location?\n",
    "    # Location?\n",
    "    # Young and wealthy?\n",
    "    # etc\n",
    "# Feature engineering\n",
    "# Preprocess data\n",
    "# Scaling?\n",
    "# Model Baseline\n",
    "# Model Comparison w/ CV"
   ]
  },
  {
   "cell_type": "markdown",
   "metadata": {
    "papermill": {
     "duration": 0.041224,
     "end_time": "2020-12-19T01:36:46.000898",
     "exception": false,
     "start_time": "2020-12-19T01:36:45.959674",
     "status": "completed"
    },
    "tags": []
   },
   "source": [
    "## Data Exploration & Visualization"
   ]
  },
  {
   "cell_type": "code",
   "execution_count": 4,
   "metadata": {
    "execution": {
     "iopub.execute_input": "2020-12-19T01:36:46.099980Z",
     "iopub.status.busy": "2020-12-19T01:36:46.099037Z",
     "iopub.status.idle": "2020-12-19T01:36:46.103296Z",
     "shell.execute_reply": "2020-12-19T01:36:46.102701Z"
    },
    "papermill": {
     "duration": 0.060773,
     "end_time": "2020-12-19T01:36:46.103422",
     "exception": false,
     "start_time": "2020-12-19T01:36:46.042649",
     "status": "completed"
    },
    "tags": []
   },
   "outputs": [
    {
     "name": "stdout",
     "output_type": "stream",
     "text": [
      "<class 'pandas.core.frame.DataFrame'>\n",
      "RangeIndex: 891 entries, 0 to 890\n",
      "Data columns (total 12 columns):\n",
      " #   Column       Non-Null Count  Dtype  \n",
      "---  ------       --------------  -----  \n",
      " 0   PassengerId  891 non-null    int64  \n",
      " 1   Survived     891 non-null    int64  \n",
      " 2   Pclass       891 non-null    int64  \n",
      " 3   Name         891 non-null    object \n",
      " 4   Sex          891 non-null    object \n",
      " 5   Age          714 non-null    float64\n",
      " 6   SibSp        891 non-null    int64  \n",
      " 7   Parch        891 non-null    int64  \n",
      " 8   Ticket       891 non-null    object \n",
      " 9   Fare         891 non-null    float64\n",
      " 10  Cabin        204 non-null    object \n",
      " 11  Embarked     889 non-null    object \n",
      "dtypes: float64(2), int64(5), object(5)\n",
      "memory usage: 83.7+ KB\n"
     ]
    }
   ],
   "source": [
    "# Look at data types and null counts of trianing data with .info()\n",
    "train_data.info()"
   ]
  },
  {
   "cell_type": "code",
   "execution_count": 5,
   "metadata": {
    "execution": {
     "iopub.execute_input": "2020-12-19T01:36:46.197761Z",
     "iopub.status.busy": "2020-12-19T01:36:46.196915Z",
     "iopub.status.idle": "2020-12-19T01:36:46.228847Z",
     "shell.execute_reply": "2020-12-19T01:36:46.228063Z"
    },
    "papermill": {
     "duration": 0.083317,
     "end_time": "2020-12-19T01:36:46.228970",
     "exception": false,
     "start_time": "2020-12-19T01:36:46.145653",
     "status": "completed"
    },
    "tags": []
   },
   "outputs": [
    {
     "data": {
      "text/html": [
       "<div>\n",
       "<style scoped>\n",
       "    .dataframe tbody tr th:only-of-type {\n",
       "        vertical-align: middle;\n",
       "    }\n",
       "\n",
       "    .dataframe tbody tr th {\n",
       "        vertical-align: top;\n",
       "    }\n",
       "\n",
       "    .dataframe thead th {\n",
       "        text-align: right;\n",
       "    }\n",
       "</style>\n",
       "<table border=\"1\" class=\"dataframe\">\n",
       "  <thead>\n",
       "    <tr style=\"text-align: right;\">\n",
       "      <th></th>\n",
       "      <th>PassengerId</th>\n",
       "      <th>Survived</th>\n",
       "      <th>Pclass</th>\n",
       "      <th>Age</th>\n",
       "      <th>SibSp</th>\n",
       "      <th>Parch</th>\n",
       "      <th>Fare</th>\n",
       "    </tr>\n",
       "  </thead>\n",
       "  <tbody>\n",
       "    <tr>\n",
       "      <th>count</th>\n",
       "      <td>891.000000</td>\n",
       "      <td>891.000000</td>\n",
       "      <td>891.000000</td>\n",
       "      <td>714.000000</td>\n",
       "      <td>891.000000</td>\n",
       "      <td>891.000000</td>\n",
       "      <td>891.000000</td>\n",
       "    </tr>\n",
       "    <tr>\n",
       "      <th>mean</th>\n",
       "      <td>446.000000</td>\n",
       "      <td>0.383838</td>\n",
       "      <td>2.308642</td>\n",
       "      <td>29.699118</td>\n",
       "      <td>0.523008</td>\n",
       "      <td>0.381594</td>\n",
       "      <td>32.204208</td>\n",
       "    </tr>\n",
       "    <tr>\n",
       "      <th>std</th>\n",
       "      <td>257.353842</td>\n",
       "      <td>0.486592</td>\n",
       "      <td>0.836071</td>\n",
       "      <td>14.526497</td>\n",
       "      <td>1.102743</td>\n",
       "      <td>0.806057</td>\n",
       "      <td>49.693429</td>\n",
       "    </tr>\n",
       "    <tr>\n",
       "      <th>min</th>\n",
       "      <td>1.000000</td>\n",
       "      <td>0.000000</td>\n",
       "      <td>1.000000</td>\n",
       "      <td>0.420000</td>\n",
       "      <td>0.000000</td>\n",
       "      <td>0.000000</td>\n",
       "      <td>0.000000</td>\n",
       "    </tr>\n",
       "    <tr>\n",
       "      <th>25%</th>\n",
       "      <td>223.500000</td>\n",
       "      <td>0.000000</td>\n",
       "      <td>2.000000</td>\n",
       "      <td>20.125000</td>\n",
       "      <td>0.000000</td>\n",
       "      <td>0.000000</td>\n",
       "      <td>7.910400</td>\n",
       "    </tr>\n",
       "    <tr>\n",
       "      <th>50%</th>\n",
       "      <td>446.000000</td>\n",
       "      <td>0.000000</td>\n",
       "      <td>3.000000</td>\n",
       "      <td>28.000000</td>\n",
       "      <td>0.000000</td>\n",
       "      <td>0.000000</td>\n",
       "      <td>14.454200</td>\n",
       "    </tr>\n",
       "    <tr>\n",
       "      <th>75%</th>\n",
       "      <td>668.500000</td>\n",
       "      <td>1.000000</td>\n",
       "      <td>3.000000</td>\n",
       "      <td>38.000000</td>\n",
       "      <td>1.000000</td>\n",
       "      <td>0.000000</td>\n",
       "      <td>31.000000</td>\n",
       "    </tr>\n",
       "    <tr>\n",
       "      <th>max</th>\n",
       "      <td>891.000000</td>\n",
       "      <td>1.000000</td>\n",
       "      <td>3.000000</td>\n",
       "      <td>80.000000</td>\n",
       "      <td>8.000000</td>\n",
       "      <td>6.000000</td>\n",
       "      <td>512.329200</td>\n",
       "    </tr>\n",
       "  </tbody>\n",
       "</table>\n",
       "</div>"
      ],
      "text/plain": [
       "       PassengerId    Survived      Pclass         Age       SibSp  \\\n",
       "count   891.000000  891.000000  891.000000  714.000000  891.000000   \n",
       "mean    446.000000    0.383838    2.308642   29.699118    0.523008   \n",
       "std     257.353842    0.486592    0.836071   14.526497    1.102743   \n",
       "min       1.000000    0.000000    1.000000    0.420000    0.000000   \n",
       "25%     223.500000    0.000000    2.000000   20.125000    0.000000   \n",
       "50%     446.000000    0.000000    3.000000   28.000000    0.000000   \n",
       "75%     668.500000    1.000000    3.000000   38.000000    1.000000   \n",
       "max     891.000000    1.000000    3.000000   80.000000    8.000000   \n",
       "\n",
       "            Parch        Fare  \n",
       "count  891.000000  891.000000  \n",
       "mean     0.381594   32.204208  \n",
       "std      0.806057   49.693429  \n",
       "min      0.000000    0.000000  \n",
       "25%      0.000000    7.910400  \n",
       "50%      0.000000   14.454200  \n",
       "75%      0.000000   31.000000  \n",
       "max      6.000000  512.329200  "
      ]
     },
     "execution_count": 5,
     "metadata": {},
     "output_type": "execute_result"
    }
   ],
   "source": [
    "# Get a better understanding of numeric tendencies of training data with .describe()\n",
    "train_data.describe()"
   ]
  },
  {
   "cell_type": "code",
   "execution_count": 6,
   "metadata": {
    "execution": {
     "iopub.execute_input": "2020-12-19T01:36:46.326955Z",
     "iopub.status.busy": "2020-12-19T01:36:46.326239Z",
     "iopub.status.idle": "2020-12-19T01:36:46.329957Z",
     "shell.execute_reply": "2020-12-19T01:36:46.329249Z"
    },
    "papermill": {
     "duration": 0.057033,
     "end_time": "2020-12-19T01:36:46.330083",
     "exception": false,
     "start_time": "2020-12-19T01:36:46.273050",
     "status": "completed"
    },
    "tags": []
   },
   "outputs": [],
   "source": [
    "# Separate numeric and categorical columns\n",
    "df_numeric = train_data[['Age','SibSp','Parch','Fare']] # Excluding PassengerId\n",
    "df_categorical = train_data[['Survived','Pclass','Sex','Ticket','Cabin','Embarked']]"
   ]
  },
  {
   "cell_type": "code",
   "execution_count": 7,
   "metadata": {
    "execution": {
     "iopub.execute_input": "2020-12-19T01:36:46.424285Z",
     "iopub.status.busy": "2020-12-19T01:36:46.423357Z",
     "iopub.status.idle": "2020-12-19T01:36:47.205822Z",
     "shell.execute_reply": "2020-12-19T01:36:47.205079Z"
    },
    "papermill": {
     "duration": 0.832103,
     "end_time": "2020-12-19T01:36:47.205948",
     "exception": false,
     "start_time": "2020-12-19T01:36:46.373845",
     "status": "completed"
    },
    "tags": []
   },
   "outputs": [
    {
     "name": "stderr",
     "output_type": "stream",
     "text": [
      "/opt/conda/lib/python3.7/site-packages/numpy/lib/histograms.py:839: RuntimeWarning: invalid value encountered in greater_equal\n",
      "  keep = (tmp_a >= first_edge)\n",
      "/opt/conda/lib/python3.7/site-packages/numpy/lib/histograms.py:840: RuntimeWarning: invalid value encountered in less_equal\n",
      "  keep &= (tmp_a <= last_edge)\n"
     ]
    },
    {
     "data": {
      "image/png": "[encoded data removed]",
      "text/plain": [
       "<Figure size 432x288 with 1 Axes>"
      ]
     },
     "metadata": {
      "needs_background": "light"
     },
     "output_type": "display_data"
    },
    {
     "data": {
      "image/png": "[encoded data removed]",
      "text/plain": [
       "<Figure size 432x288 with 1 Axes>"
      ]
     },
     "metadata": {
      "needs_background": "light"
     },
     "output_type": "display_data"
    },
    {
     "data": {
      "image/png": "[encoded data removed]",
      "text/plain": [
       "<Figure size 432x288 with 1 Axes>"
      ]
     },
     "metadata": {
      "needs_background": "light"
     },
     "output_type": "display_data"
    },
    {
     "data": {
      "image/png": "[encoded data removed]",
      "text/plain": [
       "<Figure size 432x288 with 1 Axes>"
      ]
     },
     "metadata": {
      "needs_background": "light"
     },
     "output_type": "display_data"
    }
   ],
   "source": [
    "# Plot histograms for each numeric value\n",
    "for i in df_numeric.columns:\n",
    "    plt.hist(df_numeric[i])\n",
    "    plt.title(i)\n",
    "    plt.show()"
   ]
  },
  {
   "cell_type": "code",
   "execution_count": 8,
   "metadata": {
    "execution": {
     "iopub.execute_input": "2020-12-19T01:36:47.313604Z",
     "iopub.status.busy": "2020-12-19T01:36:47.306541Z",
     "iopub.status.idle": "2020-12-19T01:36:47.545350Z",
     "shell.execute_reply": "2020-12-19T01:36:47.544616Z"
    },
    "papermill": {
     "duration": 0.2921,
     "end_time": "2020-12-19T01:36:47.545474",
     "exception": false,
     "start_time": "2020-12-19T01:36:47.253374",
     "status": "completed"
    },
    "tags": []
   },
   "outputs": [
    {
     "name": "stdout",
     "output_type": "stream",
     "text": [
      "            Age     SibSp     Parch      Fare\n",
      "Age    1.000000 -0.308247 -0.189119  0.096067\n",
      "SibSp -0.308247  1.000000  0.414838  0.159651\n",
      "Parch -0.189119  0.414838  1.000000  0.216225\n",
      "Fare   0.096067  0.159651  0.216225  1.000000\n"
     ]
    },
    {
     "data": {
      "text/plain": [
       "<matplotlib.axes._subplots.AxesSubplot at 0x7f9cae2473d0>"
      ]
     },
     "execution_count": 8,
     "metadata": {},
     "output_type": "execute_result"
    },
    {
     "data": {
      "image/png": "[encoded data removed]",
      "text/plain": [
       "<Figure size 432x288 with 2 Axes>"
      ]
     },
     "metadata": {
      "needs_background": "light"
     },
     "output_type": "display_data"
    }
   ],
   "source": [
    "# Look at the correlations between features\n",
    "print(df_numeric.corr())\n",
    "sns.heatmap(df_numeric.corr())"
   ]
  },
  {
   "cell_type": "code",
   "execution_count": 9,
   "metadata": {
    "execution": {
     "iopub.execute_input": "2020-12-19T01:36:47.655887Z",
     "iopub.status.busy": "2020-12-19T01:36:47.655168Z",
     "iopub.status.idle": "2020-12-19T01:36:47.782162Z",
     "shell.execute_reply": "2020-12-19T01:36:47.782856Z"
    },
    "papermill": {
     "duration": 0.188301,
     "end_time": "2020-12-19T01:36:47.783020",
     "exception": false,
     "start_time": "2020-12-19T01:36:47.594719",
     "status": "completed"
    },
    "tags": []
   },
   "outputs": [
    {
     "data": {
      "text/html": [
       "<div>\n",
       "<style scoped>\n",
       "    .dataframe tbody tr th:only-of-type {\n",
       "        vertical-align: middle;\n",
       "    }\n",
       "\n",
       "    .dataframe tbody tr th {\n",
       "        vertical-align: top;\n",
       "    }\n",
       "\n",
       "    .dataframe thead th {\n",
       "        text-align: right;\n",
       "    }\n",
       "</style>\n",
       "<table border=\"1\" class=\"dataframe\">\n",
       "  <thead>\n",
       "    <tr style=\"text-align: right;\">\n",
       "      <th></th>\n",
       "      <th>Age</th>\n",
       "      <th>Fare</th>\n",
       "      <th>Parch</th>\n",
       "      <th>SibSp</th>\n",
       "    </tr>\n",
       "    <tr>\n",
       "      <th>Survived</th>\n",
       "      <th></th>\n",
       "      <th></th>\n",
       "      <th></th>\n",
       "      <th></th>\n",
       "    </tr>\n",
       "  </thead>\n",
       "  <tbody>\n",
       "    <tr>\n",
       "      <th>0</th>\n",
       "      <td>30.626179</td>\n",
       "      <td>22.117887</td>\n",
       "      <td>0.329690</td>\n",
       "      <td>0.553734</td>\n",
       "    </tr>\n",
       "    <tr>\n",
       "      <th>1</th>\n",
       "      <td>28.343690</td>\n",
       "      <td>48.395408</td>\n",
       "      <td>0.464912</td>\n",
       "      <td>0.473684</td>\n",
       "    </tr>\n",
       "  </tbody>\n",
       "</table>\n",
       "</div>"
      ],
      "text/plain": [
       "                Age       Fare     Parch     SibSp\n",
       "Survived                                          \n",
       "0         30.626179  22.117887  0.329690  0.553734\n",
       "1         28.343690  48.395408  0.464912  0.473684"
      ]
     },
     "execution_count": 9,
     "metadata": {},
     "output_type": "execute_result"
    }
   ],
   "source": [
    "# Compare survival rate across numeric features, Age, SibSp, Parch, Fare\n",
    "pd.pivot_table(train_data, index='Survived', values=['Age','SibSp','Parch','Fare'])"
   ]
  },
  {
   "cell_type": "code",
   "execution_count": 10,
   "metadata": {
    "execution": {
     "iopub.execute_input": "2020-12-19T01:36:47.893878Z",
     "iopub.status.busy": "2020-12-19T01:36:47.890836Z",
     "iopub.status.idle": "2020-12-19T01:36:58.827227Z",
     "shell.execute_reply": "2020-12-19T01:36:58.826527Z"
    },
    "papermill": {
     "duration": 10.994476,
     "end_time": "2020-12-19T01:36:58.827351",
     "exception": false,
     "start_time": "2020-12-19T01:36:47.832875",
     "status": "completed"
    },
    "tags": []
   },
   "outputs": [
    {
     "data": {
      "image/png": "[encoded data removed]",
      "text/plain": [
       "<Figure size 432x288 with 1 Axes>"
      ]
     },
     "metadata": {
      "needs_background": "light"
     },
     "output_type": "display_data"
    },
    {
     "data": {
      "image/png": "[encoded data removed]",
      "text/plain": [
       "<Figure size 432x288 with 1 Axes>"
      ]
     },
     "metadata": {
      "needs_background": "light"
     },
     "output_type": "display_data"
    },
    {
     "data": {
      "image/png": "[encoded data removed]",
      "text/plain": [
       "<Figure size 432x288 with 1 Axes>"
      ]
     },
     "metadata": {
      "needs_background": "light"
     },
     "output_type": "display_data"
    },
    {
     "data": {
      "image/png": "[encoded data removed]",
      "text/plain": [
       "<Figure size 432x288 with 1 Axes>"
      ]
     },
     "metadata": {
      "needs_background": "light"
     },
     "output_type": "display_data"
    },
    {
     "data": {
      "image/png": "[encoded data removed]",
      "text/plain": [
       "<Figure size 432x288 with 1 Axes>"
      ]
     },
     "metadata": {
      "needs_background": "light"
     },
     "output_type": "display_data"
    },
    {
     "data": {
      "image/png": "[encoded data removed]",
      "text/plain": [
       "<Figure size 432x288 with 1 Axes>"
      ]
     },
     "metadata": {
      "needs_background": "light"
     },
     "output_type": "display_data"
    }
   ],
   "source": [
    "# Plot barplots for categorical variables\n",
    "for i in df_categorical.columns:\n",
    "    sns.barplot(df_categorical[i].value_counts().index,df_categorical[i].value_counts()).set_title(i)\n",
    "    plt.show()"
   ]
  },
  {
   "cell_type": "code",
   "execution_count": 11,
   "metadata": {
    "execution": {
     "iopub.execute_input": "2020-12-19T01:36:58.958211Z",
     "iopub.status.busy": "2020-12-19T01:36:58.954515Z",
     "iopub.status.idle": "2020-12-19T01:36:59.008225Z",
     "shell.execute_reply": "2020-12-19T01:36:59.007565Z"
    },
    "papermill": {
     "duration": 0.126436,
     "end_time": "2020-12-19T01:36:59.008357",
     "exception": false,
     "start_time": "2020-12-19T01:36:58.881921",
     "status": "completed"
    },
    "tags": []
   },
   "outputs": [
    {
     "name": "stdout",
     "output_type": "stream",
     "text": [
      "Pclass      1   2    3\n",
      "Survived              \n",
      "0          80  97  372\n",
      "1         136  87  119\n",
      "Sex       female  male\n",
      "Survived              \n",
      "0             81   468\n",
      "1            233   109\n",
      "Embarked   C   Q    S\n",
      "Survived             \n",
      "0         75  47  427\n",
      "1         93  30  217\n"
     ]
    }
   ],
   "source": [
    "# Compare survival rate across categorical features, Pclass, Sex, Ticket, Cabin, Embarked\n",
    "print(pd.pivot_table(train_data, index='Survived', columns='Pclass', values='Ticket', aggfunc='count'))\n",
    "print(pd.pivot_table(train_data, index='Survived', columns='Sex', values='Ticket', aggfunc='count'))\n",
    "print(pd.pivot_table(train_data, index='Survived', columns='Embarked', values='Ticket', aggfunc='count'))"
   ]
  },
  {
   "cell_type": "markdown",
   "metadata": {
    "papermill": {
     "duration": 0.054613,
     "end_time": "2020-12-19T01:36:59.121069",
     "exception": false,
     "start_time": "2020-12-19T01:36:59.066456",
     "status": "completed"
    },
    "tags": []
   },
   "source": [
    "## Data Cleaning"
   ]
  },
  {
   "cell_type": "code",
   "execution_count": 12,
   "metadata": {
    "execution": {
     "iopub.execute_input": "2020-12-19T01:36:59.238334Z",
     "iopub.status.busy": "2020-12-19T01:36:59.237570Z",
     "iopub.status.idle": "2020-12-19T01:36:59.247105Z",
     "shell.execute_reply": "2020-12-19T01:36:59.246513Z"
    },
    "papermill": {
     "duration": 0.070483,
     "end_time": "2020-12-19T01:36:59.247250",
     "exception": false,
     "start_time": "2020-12-19T01:36:59.176767",
     "status": "completed"
    },
    "tags": []
   },
   "outputs": [
    {
     "data": {
      "text/plain": [
       "0"
      ]
     },
     "execution_count": 12,
     "metadata": {},
     "output_type": "execute_result"
    }
   ],
   "source": [
    "# Check for duplicated entries\n",
    "sum(train_data.duplicated())"
   ]
  },
  {
   "cell_type": "markdown",
   "metadata": {
    "papermill": {
     "duration": 0.057308,
     "end_time": "2020-12-19T01:36:59.361681",
     "exception": false,
     "start_time": "2020-12-19T01:36:59.304373",
     "status": "completed"
    },
    "tags": []
   },
   "source": [
    "## Feature Engineering"
   ]
  },
  {
   "cell_type": "code",
   "execution_count": 13,
   "metadata": {
    "execution": {
     "iopub.execute_input": "2020-12-19T01:36:59.486543Z",
     "iopub.status.busy": "2020-12-19T01:36:59.482216Z",
     "iopub.status.idle": "2020-12-19T01:36:59.496589Z",
     "shell.execute_reply": "2020-12-19T01:36:59.495836Z"
    },
    "papermill": {
     "duration": 0.079264,
     "end_time": "2020-12-19T01:36:59.496722",
     "exception": false,
     "start_time": "2020-12-19T01:36:59.417458",
     "status": "completed"
    },
    "tags": []
   },
   "outputs": [],
   "source": [
    "# Join training and test data sets for feature engineering\n",
    "train_data['train_test'] = 1\n",
    "test_data['train_test'] = 0\n",
    "\n",
    "train_target = train_data.Survived\n",
    "\n",
    "all_data = pd.concat([train_data,test_data])\n",
    "all_data.drop(['Survived'], axis=1, inplace=True)\n",
    "all_data.reset_index()\n",
    "all_data.drop(['PassengerId'], inplace=True, axis=1)"
   ]
  },
  {
   "cell_type": "code",
   "execution_count": 14,
   "metadata": {
    "execution": {
     "iopub.execute_input": "2020-12-19T01:36:59.613505Z",
     "iopub.status.busy": "2020-12-19T01:36:59.612765Z",
     "iopub.status.idle": "2020-12-19T01:36:59.616404Z",
     "shell.execute_reply": "2020-12-19T01:36:59.616996Z"
    },
    "papermill": {
     "duration": 0.064893,
     "end_time": "2020-12-19T01:36:59.617175",
     "exception": false,
     "start_time": "2020-12-19T01:36:59.552282",
     "status": "completed"
    },
    "tags": []
   },
   "outputs": [
    {
     "name": "stdout",
     "output_type": "stream",
     "text": [
      "(1309, 11)\n"
     ]
    }
   ],
   "source": [
    "print(all_data.shape)"
   ]
  },
  {
   "cell_type": "code",
   "execution_count": 15,
   "metadata": {
    "execution": {
     "iopub.execute_input": "2020-12-19T01:36:59.739540Z",
     "iopub.status.busy": "2020-12-19T01:36:59.738499Z",
     "iopub.status.idle": "2020-12-19T01:36:59.741894Z",
     "shell.execute_reply": "2020-12-19T01:36:59.741200Z"
    },
    "papermill": {
     "duration": 0.068565,
     "end_time": "2020-12-19T01:36:59.742016",
     "exception": false,
     "start_time": "2020-12-19T01:36:59.673451",
     "status": "completed"
    },
    "tags": []
   },
   "outputs": [],
   "source": [
    "# Extracting passenger titles\n",
    "all_data['Title'] = all_data['Name'].map(lambda name:name.split(',')[1].split('.')[0].strip())"
   ]
  },
  {
   "cell_type": "code",
   "execution_count": 16,
   "metadata": {
    "execution": {
     "iopub.execute_input": "2020-12-19T01:36:59.867840Z",
     "iopub.status.busy": "2020-12-19T01:36:59.867086Z",
     "iopub.status.idle": "2020-12-19T01:36:59.872457Z",
     "shell.execute_reply": "2020-12-19T01:36:59.871742Z"
    },
    "papermill": {
     "duration": 0.07412,
     "end_time": "2020-12-19T01:36:59.872589",
     "exception": false,
     "start_time": "2020-12-19T01:36:59.798469",
     "status": "completed"
    },
    "tags": []
   },
   "outputs": [],
   "source": [
    "# Drop 'Name' feature and dummy encode 'Title' feature\n",
    "title_dummies = pd.get_dummies(all_data['Title'])\n",
    "all_data = pd.concat([all_data, title_dummies], axis=1)\n",
    "all_data.drop(['Name'], inplace=True, axis=1)"
   ]
  },
  {
   "cell_type": "code",
   "execution_count": 17,
   "metadata": {
    "execution": {
     "iopub.execute_input": "2020-12-19T01:36:59.996791Z",
     "iopub.status.busy": "2020-12-19T01:36:59.995697Z",
     "iopub.status.idle": "2020-12-19T01:37:00.013825Z",
     "shell.execute_reply": "2020-12-19T01:37:00.012972Z"
    },
    "papermill": {
     "duration": 0.084557,
     "end_time": "2020-12-19T01:37:00.013981",
     "exception": false,
     "start_time": "2020-12-19T01:36:59.929424",
     "status": "completed"
    },
    "tags": []
   },
   "outputs": [
    {
     "name": "stdout",
     "output_type": "stream",
     "text": [
      "<class 'pandas.core.frame.DataFrame'>\n",
      "RangeIndex: 27 entries, 0 to 26\n",
      "Data columns (total 4 columns):\n",
      " #   Column  Non-Null Count  Dtype  \n",
      "---  ------  --------------  -----  \n",
      " 0   Sex     27 non-null     object \n",
      " 1   Pclass  27 non-null     int64  \n",
      " 2   Title   27 non-null     object \n",
      " 3   Age     27 non-null     float64\n",
      "dtypes: float64(1), int64(1), object(2)\n",
      "memory usage: 992.0+ bytes\n"
     ]
    }
   ],
   "source": [
    "# Consider how age is correlated with other features\n",
    "grouped_train = all_data.iloc[:891].groupby(['Sex','Pclass','Title'])\n",
    "grouped_median_train = grouped_train.median()\n",
    "grouped_median_train = grouped_median_train.reset_index()[['Sex', 'Pclass', 'Title', 'Age']]\n",
    "\n",
    "grouped_median_train.info()"
   ]
  },
  {
   "cell_type": "code",
   "execution_count": 18,
   "metadata": {
    "execution": {
     "iopub.execute_input": "2020-12-19T01:37:00.138804Z",
     "iopub.status.busy": "2020-12-19T01:37:00.137945Z",
     "iopub.status.idle": "2020-12-19T01:37:00.632965Z",
     "shell.execute_reply": "2020-12-19T01:37:00.632381Z"
    },
    "papermill": {
     "duration": 0.561035,
     "end_time": "2020-12-19T01:37:00.633098",
     "exception": false,
     "start_time": "2020-12-19T01:37:00.072063",
     "status": "completed"
    },
    "tags": []
   },
   "outputs": [
    {
     "data": {
      "text/plain": [
       "1"
      ]
     },
     "execution_count": 18,
     "metadata": {},
     "output_type": "execute_result"
    }
   ],
   "source": [
    "# Deal with missing values in Age\n",
    "# Impute with value based on 'Sex', 'Pclass', 'Age'\n",
    "# fill_age() function from ahmedbesbes on GitHub/Medium\n",
    "def fill_age(row):\n",
    "    condition = (\n",
    "        (grouped_median_train['Sex'] == row['Sex']) & \n",
    "        (grouped_median_train['Title'] == row['Title']) & \n",
    "        (grouped_median_train['Pclass'] == row['Pclass'])\n",
    "    ) \n",
    "    if grouped_median_train[condition]['Age'].values.any():\n",
    "        return int(grouped_median_train[condition]['Age'].values[0])\n",
    "\n",
    "all_data['Age'] = all_data.apply(lambda row: fill_age(row) if np.isnan(row['Age']) else row['Age'], axis=1)\n",
    "\n",
    "sum(all_data.Age.isna())"
   ]
  },
  {
   "cell_type": "code",
   "execution_count": 19,
   "metadata": {
    "execution": {
     "iopub.execute_input": "2020-12-19T01:37:00.757299Z",
     "iopub.status.busy": "2020-12-19T01:37:00.756403Z",
     "iopub.status.idle": "2020-12-19T01:37:00.759571Z",
     "shell.execute_reply": "2020-12-19T01:37:00.758989Z"
    },
    "papermill": {
     "duration": 0.068851,
     "end_time": "2020-12-19T01:37:00.759708",
     "exception": false,
     "start_time": "2020-12-19T01:37:00.690857",
     "status": "completed"
    },
    "tags": []
   },
   "outputs": [],
   "source": [
    "# Impute last one with overall median age\n",
    "all_data.Age = all_data.Age.fillna(all_data.Age.median())\n",
    "assert sum(all_data.Age.isna()) == 0"
   ]
  },
  {
   "cell_type": "code",
   "execution_count": 20,
   "metadata": {
    "execution": {
     "iopub.execute_input": "2020-12-19T01:37:00.883006Z",
     "iopub.status.busy": "2020-12-19T01:37:00.882060Z",
     "iopub.status.idle": "2020-12-19T01:37:00.885968Z",
     "shell.execute_reply": "2020-12-19T01:37:00.885334Z"
    },
    "papermill": {
     "duration": 0.06834,
     "end_time": "2020-12-19T01:37:00.886101",
     "exception": false,
     "start_time": "2020-12-19T01:37:00.817761",
     "status": "completed"
    },
    "tags": []
   },
   "outputs": [],
   "source": [
    "# Drop title\n",
    "all_data.drop(['Title'], inplace=True, axis=1)"
   ]
  },
  {
   "cell_type": "code",
   "execution_count": 21,
   "metadata": {
    "execution": {
     "iopub.execute_input": "2020-12-19T01:37:01.011417Z",
     "iopub.status.busy": "2020-12-19T01:37:01.010443Z",
     "iopub.status.idle": "2020-12-19T01:37:01.014577Z",
     "shell.execute_reply": "2020-12-19T01:37:01.013869Z"
    },
    "papermill": {
     "duration": 0.070367,
     "end_time": "2020-12-19T01:37:01.014705",
     "exception": false,
     "start_time": "2020-12-19T01:37:00.944338",
     "status": "completed"
    },
    "tags": []
   },
   "outputs": [
    {
     "name": "stdout",
     "output_type": "stream",
     "text": [
      "1\n"
     ]
    }
   ],
   "source": [
    "# Process fare \n",
    "# Impute with mean\n",
    "print(sum(all_data.Fare.isna()))\n",
    "all_data.Fare = all_data.Fare.fillna(all_data.Fare.mean())\n",
    "assert sum(all_data.Fare.isna()) == 0"
   ]
  },
  {
   "cell_type": "code",
   "execution_count": 22,
   "metadata": {
    "execution": {
     "iopub.execute_input": "2020-12-19T01:37:01.144217Z",
     "iopub.status.busy": "2020-12-19T01:37:01.140736Z",
     "iopub.status.idle": "2020-12-19T01:37:01.149282Z",
     "shell.execute_reply": "2020-12-19T01:37:01.148515Z"
    },
    "papermill": {
     "duration": 0.075998,
     "end_time": "2020-12-19T01:37:01.149408",
     "exception": false,
     "start_time": "2020-12-19T01:37:01.073410",
     "status": "completed"
    },
    "tags": []
   },
   "outputs": [],
   "source": [
    "# Bin fare by quartiles\n",
    "\n",
    "fare_bins = [all_data.Fare.min(),\n",
    "            all_data.Fare.median(),\n",
    "            all_data.Fare.quantile(.75),\n",
    "            all_data.Fare.max(),]\n",
    "all_data['binned_Fare'] = pd.cut(all_data.Fare, \n",
    "                                   bins=fare_bins, \n",
    "                                   labels=['3rd', '2nd', '1st'], # assuming low fare corresponds to lower class ticket\n",
    "                                   right=True, \n",
    "                                   include_lowest=True) "
   ]
  },
  {
   "cell_type": "code",
   "execution_count": 23,
   "metadata": {
    "execution": {
     "iopub.execute_input": "2020-12-19T01:37:01.279053Z",
     "iopub.status.busy": "2020-12-19T01:37:01.274604Z",
     "iopub.status.idle": "2020-12-19T01:37:01.284310Z",
     "shell.execute_reply": "2020-12-19T01:37:01.283539Z"
    },
    "papermill": {
     "duration": 0.07542,
     "end_time": "2020-12-19T01:37:01.284435",
     "exception": false,
     "start_time": "2020-12-19T01:37:01.209015",
     "status": "completed"
    },
    "tags": []
   },
   "outputs": [],
   "source": [
    "# Dummy encode binned fare and concatenate to all_data\n",
    "# Drop binned fare feature\n",
    "fare_dummies = pd.get_dummies(all_data['binned_Fare'], prefix='Fare')\n",
    "all_data = pd.concat([all_data, fare_dummies], axis=1)\n",
    "all_data.drop(['binned_Fare'], inplace=True, axis=1)"
   ]
  },
  {
   "cell_type": "code",
   "execution_count": 24,
   "metadata": {
    "execution": {
     "iopub.execute_input": "2020-12-19T01:37:01.417057Z",
     "iopub.status.busy": "2020-12-19T01:37:01.415011Z",
     "iopub.status.idle": "2020-12-19T01:37:01.420260Z",
     "shell.execute_reply": "2020-12-19T01:37:01.420956Z"
    },
    "papermill": {
     "duration": 0.075871,
     "end_time": "2020-12-19T01:37:01.421116",
     "exception": false,
     "start_time": "2020-12-19T01:37:01.345245",
     "status": "completed"
    },
    "tags": []
   },
   "outputs": [
    {
     "name": "stdout",
     "output_type": "stream",
     "text": [
      "2\n"
     ]
    }
   ],
   "source": [
    "# Deal with missing values in Embarked\n",
    "# Impute with mode\n",
    "print(sum(all_data.Embarked.isna()))\n",
    "all_data.Embarked.fillna(all_data.Embarked.mode().iloc[0], inplace=True)\n",
    "all_data.dropna(subset=['Embarked'], inplace=True)\n",
    "assert sum(all_data.Embarked.isna()) == 0"
   ]
  },
  {
   "cell_type": "code",
   "execution_count": 25,
   "metadata": {
    "execution": {
     "iopub.execute_input": "2020-12-19T01:37:01.553504Z",
     "iopub.status.busy": "2020-12-19T01:37:01.552768Z",
     "iopub.status.idle": "2020-12-19T01:37:01.557861Z",
     "shell.execute_reply": "2020-12-19T01:37:01.557157Z"
    },
    "papermill": {
     "duration": 0.076618,
     "end_time": "2020-12-19T01:37:01.557986",
     "exception": false,
     "start_time": "2020-12-19T01:37:01.481368",
     "status": "completed"
    },
    "tags": []
   },
   "outputs": [],
   "source": [
    "# Dummy encode Embarked and drop Embarked feature\n",
    "embarked_dummies = pd.get_dummies(all_data['Embarked'], prefix='Embarked')\n",
    "all_data = pd.concat([all_data, embarked_dummies], axis=1)\n",
    "all_data.drop(['Embarked'], inplace=True, axis=1)"
   ]
  },
  {
   "cell_type": "code",
   "execution_count": 26,
   "metadata": {
    "execution": {
     "iopub.execute_input": "2020-12-19T01:37:01.687641Z",
     "iopub.status.busy": "2020-12-19T01:37:01.686825Z",
     "iopub.status.idle": "2020-12-19T01:37:01.689755Z",
     "shell.execute_reply": "2020-12-19T01:37:01.690540Z"
    },
    "papermill": {
     "duration": 0.072465,
     "end_time": "2020-12-19T01:37:01.690736",
     "exception": false,
     "start_time": "2020-12-19T01:37:01.618271",
     "status": "completed"
    },
    "tags": []
   },
   "outputs": [
    {
     "name": "stdout",
     "output_type": "stream",
     "text": [
      "1014\n"
     ]
    }
   ],
   "source": [
    "# Deal with missing values in Cabin\n",
    "# Impute with U = unmarked cabin\n",
    "print(sum(all_data.Cabin.isna()))\n",
    "all_data.Cabin.fillna('U', inplace=True)\n",
    "assert sum(all_data.Cabin.isna()) == 0"
   ]
  },
  {
   "cell_type": "code",
   "execution_count": 27,
   "metadata": {
    "execution": {
     "iopub.execute_input": "2020-12-19T01:37:01.823988Z",
     "iopub.status.busy": "2020-12-19T01:37:01.823236Z",
     "iopub.status.idle": "2020-12-19T01:37:01.833591Z",
     "shell.execute_reply": "2020-12-19T01:37:01.832978Z"
    },
    "papermill": {
     "duration": 0.081039,
     "end_time": "2020-12-19T01:37:01.833726",
     "exception": false,
     "start_time": "2020-12-19T01:37:01.752687",
     "status": "completed"
    },
    "tags": []
   },
   "outputs": [],
   "source": [
    "# Bin by cabin letter and dummy encode and concatenate to all_data\n",
    "# Drop 'Cabin' feature and 'Cabin_letter'\n",
    "all_data['Cabin_letter'] = all_data['Cabin'].map(lambda c: c[0])\n",
    "cabin_dummies = pd.get_dummies(all_data['Cabin_letter'], prefix='Cabin')\n",
    "all_data = pd.concat([all_data, cabin_dummies], axis=1)\n",
    "all_data.drop(['Cabin_letter', 'Cabin'], inplace=True, axis=1)"
   ]
  },
  {
   "cell_type": "code",
   "execution_count": 28,
   "metadata": {
    "execution": {
     "iopub.execute_input": "2020-12-19T01:37:01.963512Z",
     "iopub.status.busy": "2020-12-19T01:37:01.962712Z",
     "iopub.status.idle": "2020-12-19T01:37:01.966304Z",
     "shell.execute_reply": "2020-12-19T01:37:01.965576Z"
    },
    "papermill": {
     "duration": 0.071743,
     "end_time": "2020-12-19T01:37:01.966428",
     "exception": false,
     "start_time": "2020-12-19T01:37:01.894685",
     "status": "completed"
    },
    "tags": []
   },
   "outputs": [],
   "source": [
    "# Dummy encode sex (mapping female --> 0 /male --> 1)\n",
    "all_data['Sex'] = all_data['Sex'].map({'male':1, 'female':0})"
   ]
  },
  {
   "cell_type": "code",
   "execution_count": 29,
   "metadata": {
    "execution": {
     "iopub.execute_input": "2020-12-19T01:37:02.099962Z",
     "iopub.status.busy": "2020-12-19T01:37:02.099014Z",
     "iopub.status.idle": "2020-12-19T01:37:02.107955Z",
     "shell.execute_reply": "2020-12-19T01:37:02.107211Z"
    },
    "papermill": {
     "duration": 0.080716,
     "end_time": "2020-12-19T01:37:02.108093",
     "exception": false,
     "start_time": "2020-12-19T01:37:02.027377",
     "status": "completed"
    },
    "tags": []
   },
   "outputs": [],
   "source": [
    "# Dummy encode Pclass (1/2/3) and drop 'Pclass feature'\n",
    "pclass_dummies = pd.get_dummies(all_data['Pclass'], prefix='Pclass')\n",
    "all_data = pd.concat([all_data, pclass_dummies], axis=1)\n",
    "all_data.drop(['Pclass'], inplace=True, axis=1)"
   ]
  },
  {
   "cell_type": "code",
   "execution_count": 30,
   "metadata": {
    "execution": {
     "iopub.execute_input": "2020-12-19T01:37:02.248703Z",
     "iopub.status.busy": "2020-12-19T01:37:02.247890Z",
     "iopub.status.idle": "2020-12-19T01:37:02.251539Z",
     "shell.execute_reply": "2020-12-19T01:37:02.250798Z"
    },
    "papermill": {
     "duration": 0.081068,
     "end_time": "2020-12-19T01:37:02.251672",
     "exception": false,
     "start_time": "2020-12-19T01:37:02.170604",
     "status": "completed"
    },
    "tags": []
   },
   "outputs": [],
   "source": [
    "# Feature engineer 'Family_Size' with Parch and SibSp + 1 for passenger themselves\n",
    "all_data['Family_Size'] = all_data['Parch'] + all_data['SibSp'] + 1\n",
    "\n",
    "# Bin / feature engineer 'single_family', 'small_family', 'large_family' based on 'Family_Size'\n",
    "all_data['single_family'] = all_data['Family_Size'].map(lambda s: 1 if s == 1 else 0)\n",
    "all_data['small_family'] = all_data['Family_Size'].map(lambda s: 1 if 2 <= s <= 4 else 0)\n",
    "all_data['large_family'] = all_data['Family_Size'].map(lambda s: 1 if 5 <= s else 0)"
   ]
  },
  {
   "cell_type": "code",
   "execution_count": 31,
   "metadata": {
    "execution": {
     "iopub.execute_input": "2020-12-19T01:37:02.394693Z",
     "iopub.status.busy": "2020-12-19T01:37:02.393877Z",
     "iopub.status.idle": "2020-12-19T01:37:02.402339Z",
     "shell.execute_reply": "2020-12-19T01:37:02.401587Z"
    },
    "papermill": {
     "duration": 0.087065,
     "end_time": "2020-12-19T01:37:02.402463",
     "exception": false,
     "start_time": "2020-12-19T01:37:02.315398",
     "status": "completed"
    },
    "tags": []
   },
   "outputs": [],
   "source": [
    "# Process 'Ticket' feature\n",
    "# Extract prefix of each ticket, if no prefix impute 'XXX'\n",
    "# Dummy encode 'Ticket_prefix' feature\n",
    "# cleanTicket() function from ahmedbesbes on GitHub/Medium\n",
    "\n",
    "def cleanTicket(ticket):\n",
    "        ticket = ticket.replace('.','')\n",
    "        ticket = ticket.replace('/','')\n",
    "        ticket = ticket.split()\n",
    "        ticket = map(lambda t : t.strip(), ticket)\n",
    "        ticket = list(filter(lambda t : not t.isdigit(), ticket))\n",
    "        if len(ticket) > 0:\n",
    "            return ticket[0]\n",
    "        else: \n",
    "            return 'XXX'\n",
    "        \n",
    "all_data['Ticket'] = all_data['Ticket'].map(cleanTicket)\n",
    "tickets_dummies = pd.get_dummies(all_data['Ticket'], prefix='Ticket')\n",
    "all_data = pd.concat([all_data, tickets_dummies], axis=1)\n",
    "all_data.drop('Ticket', inplace=True, axis=1)"
   ]
  },
  {
   "cell_type": "code",
   "execution_count": 32,
   "metadata": {
    "execution": {
     "iopub.execute_input": "2020-12-19T01:37:02.530279Z",
     "iopub.status.busy": "2020-12-19T01:37:02.529528Z",
     "iopub.status.idle": "2020-12-19T01:37:02.532728Z",
     "shell.execute_reply": "2020-12-19T01:37:02.532089Z"
    },
    "papermill": {
     "duration": 0.068749,
     "end_time": "2020-12-19T01:37:02.532858",
     "exception": false,
     "start_time": "2020-12-19T01:37:02.464109",
     "status": "completed"
    },
    "tags": []
   },
   "outputs": [],
   "source": [
    "## FURTHER FEATURE ENGINEERING\n",
    "# -- Age by other attributes"
   ]
  },
  {
   "cell_type": "code",
   "execution_count": 33,
   "metadata": {
    "execution": {
     "iopub.execute_input": "2020-12-19T01:37:02.662745Z",
     "iopub.status.busy": "2020-12-19T01:37:02.661950Z",
     "iopub.status.idle": "2020-12-19T01:37:02.682168Z",
     "shell.execute_reply": "2020-12-19T01:37:02.681426Z"
    },
    "papermill": {
     "duration": 0.088074,
     "end_time": "2020-12-19T01:37:02.682300",
     "exception": false,
     "start_time": "2020-12-19T01:37:02.594226",
     "status": "completed"
    },
    "tags": []
   },
   "outputs": [
    {
     "name": "stdout",
     "output_type": "stream",
     "text": [
      "<class 'pandas.core.frame.DataFrame'>\n",
      "Int64Index: 1309 entries, 0 to 417\n",
      "Data columns (total 83 columns):\n",
      " #   Column          Non-Null Count  Dtype  \n",
      "---  ------          --------------  -----  \n",
      " 0   Sex             1309 non-null   int64  \n",
      " 1   Age             1309 non-null   float64\n",
      " 2   SibSp           1309 non-null   int64  \n",
      " 3   Parch           1309 non-null   int64  \n",
      " 4   Fare            1309 non-null   float64\n",
      " 5   train_test      1309 non-null   int64  \n",
      " 6   Capt            1309 non-null   uint8  \n",
      " 7   Col             1309 non-null   uint8  \n",
      " 8   Don             1309 non-null   uint8  \n",
      " 9   Dona            1309 non-null   uint8  \n",
      " 10  Dr              1309 non-null   uint8  \n",
      " 11  Jonkheer        1309 non-null   uint8  \n",
      " 12  Lady            1309 non-null   uint8  \n",
      " 13  Major           1309 non-null   uint8  \n",
      " 14  Master          1309 non-null   uint8  \n",
      " 15  Miss            1309 non-null   uint8  \n",
      " 16  Mlle            1309 non-null   uint8  \n",
      " 17  Mme             1309 non-null   uint8  \n",
      " 18  Mr              1309 non-null   uint8  \n",
      " 19  Mrs             1309 non-null   uint8  \n",
      " 20  Ms              1309 non-null   uint8  \n",
      " 21  Rev             1309 non-null   uint8  \n",
      " 22  Sir             1309 non-null   uint8  \n",
      " 23  the Countess    1309 non-null   uint8  \n",
      " 24  Fare_3rd        1309 non-null   uint8  \n",
      " 25  Fare_2nd        1309 non-null   uint8  \n",
      " 26  Fare_1st        1309 non-null   uint8  \n",
      " 27  Embarked_C      1309 non-null   uint8  \n",
      " 28  Embarked_Q      1309 non-null   uint8  \n",
      " 29  Embarked_S      1309 non-null   uint8  \n",
      " 30  Cabin_A         1309 non-null   uint8  \n",
      " 31  Cabin_B         1309 non-null   uint8  \n",
      " 32  Cabin_C         1309 non-null   uint8  \n",
      " 33  Cabin_D         1309 non-null   uint8  \n",
      " 34  Cabin_E         1309 non-null   uint8  \n",
      " 35  Cabin_F         1309 non-null   uint8  \n",
      " 36  Cabin_G         1309 non-null   uint8  \n",
      " 37  Cabin_T         1309 non-null   uint8  \n",
      " 38  Cabin_U         1309 non-null   uint8  \n",
      " 39  Pclass_1        1309 non-null   uint8  \n",
      " 40  Pclass_2        1309 non-null   uint8  \n",
      " 41  Pclass_3        1309 non-null   uint8  \n",
      " 42  Family_Size     1309 non-null   int64  \n",
      " 43  single_family   1309 non-null   int64  \n",
      " 44  small_family    1309 non-null   int64  \n",
      " 45  large_family    1309 non-null   int64  \n",
      " 46  Ticket_A        1309 non-null   uint8  \n",
      " 47  Ticket_A4       1309 non-null   uint8  \n",
      " 48  Ticket_A5       1309 non-null   uint8  \n",
      " 49  Ticket_AQ3      1309 non-null   uint8  \n",
      " 50  Ticket_AQ4      1309 non-null   uint8  \n",
      " 51  Ticket_AS       1309 non-null   uint8  \n",
      " 52  Ticket_C        1309 non-null   uint8  \n",
      " 53  Ticket_CA       1309 non-null   uint8  \n",
      " 54  Ticket_CASOTON  1309 non-null   uint8  \n",
      " 55  Ticket_FC       1309 non-null   uint8  \n",
      " 56  Ticket_FCC      1309 non-null   uint8  \n",
      " 57  Ticket_Fa       1309 non-null   uint8  \n",
      " 58  Ticket_LINE     1309 non-null   uint8  \n",
      " 59  Ticket_LP       1309 non-null   uint8  \n",
      " 60  Ticket_PC       1309 non-null   uint8  \n",
      " 61  Ticket_PP       1309 non-null   uint8  \n",
      " 62  Ticket_PPP      1309 non-null   uint8  \n",
      " 63  Ticket_SC       1309 non-null   uint8  \n",
      " 64  Ticket_SCA3     1309 non-null   uint8  \n",
      " 65  Ticket_SCA4     1309 non-null   uint8  \n",
      " 66  Ticket_SCAH     1309 non-null   uint8  \n",
      " 67  Ticket_SCOW     1309 non-null   uint8  \n",
      " 68  Ticket_SCPARIS  1309 non-null   uint8  \n",
      " 69  Ticket_SCParis  1309 non-null   uint8  \n",
      " 70  Ticket_SOC      1309 non-null   uint8  \n",
      " 71  Ticket_SOP      1309 non-null   uint8  \n",
      " 72  Ticket_SOPP     1309 non-null   uint8  \n",
      " 73  Ticket_SOTONO2  1309 non-null   uint8  \n",
      " 74  Ticket_SOTONOQ  1309 non-null   uint8  \n",
      " 75  Ticket_SP       1309 non-null   uint8  \n",
      " 76  Ticket_STONO    1309 non-null   uint8  \n",
      " 77  Ticket_STONO2   1309 non-null   uint8  \n",
      " 78  Ticket_STONOQ   1309 non-null   uint8  \n",
      " 79  Ticket_SWPP     1309 non-null   uint8  \n",
      " 80  Ticket_WC       1309 non-null   uint8  \n",
      " 81  Ticket_WEP      1309 non-null   uint8  \n",
      " 82  Ticket_XXX      1309 non-null   uint8  \n",
      "dtypes: float64(2), int64(8), uint8(73)\n",
      "memory usage: 205.8 KB\n"
     ]
    }
   ],
   "source": [
    "all_data.info()"
   ]
  },
  {
   "cell_type": "code",
   "execution_count": 34,
   "metadata": {
    "execution": {
     "iopub.execute_input": "2020-12-19T01:37:02.813501Z",
     "iopub.status.busy": "2020-12-19T01:37:02.812480Z",
     "iopub.status.idle": "2020-12-19T01:37:02.816872Z",
     "shell.execute_reply": "2020-12-19T01:37:02.816298Z"
    },
    "papermill": {
     "duration": 0.072221,
     "end_time": "2020-12-19T01:37:02.816996",
     "exception": false,
     "start_time": "2020-12-19T01:37:02.744775",
     "status": "completed"
    },
    "tags": []
   },
   "outputs": [
    {
     "data": {
      "text/plain": [
       "(1309, 83)"
      ]
     },
     "execution_count": 34,
     "metadata": {},
     "output_type": "execute_result"
    }
   ],
   "source": [
    "all_data.shape"
   ]
  },
  {
   "cell_type": "markdown",
   "metadata": {
    "papermill": {
     "duration": 0.062566,
     "end_time": "2020-12-19T01:37:02.942453",
     "exception": false,
     "start_time": "2020-12-19T01:37:02.879887",
     "status": "completed"
    },
    "tags": []
   },
   "source": [
    "## Feature Selection"
   ]
  },
  {
   "cell_type": "code",
   "execution_count": 35,
   "metadata": {
    "execution": {
     "iopub.execute_input": "2020-12-19T01:37:03.076169Z",
     "iopub.status.busy": "2020-12-19T01:37:03.075417Z",
     "iopub.status.idle": "2020-12-19T01:37:03.082565Z",
     "shell.execute_reply": "2020-12-19T01:37:03.081826Z"
    },
    "papermill": {
     "duration": 0.077431,
     "end_time": "2020-12-19T01:37:03.082688",
     "exception": false,
     "start_time": "2020-12-19T01:37:03.005257",
     "status": "completed"
    },
    "tags": []
   },
   "outputs": [],
   "source": [
    "# Recover train and test data sets! \n",
    "X_train = all_data[all_data.train_test==1].drop(['train_test'], axis=1)\n",
    "y_train = train_target\n",
    "X_test = all_data[all_data.train_test==0].drop(['train_test'], axis=1)\n",
    "\n",
    "# X_train_scaled = all_dummies_scaled[all_dummies_scaled.train_test==1].drop(['train_test'], axis=1)\n",
    "\n",
    "feature_names = X_train.columns.values"
   ]
  },
  {
   "cell_type": "code",
   "execution_count": 36,
   "metadata": {
    "execution": {
     "iopub.execute_input": "2020-12-19T01:37:03.218243Z",
     "iopub.status.busy": "2020-12-19T01:37:03.217443Z",
     "iopub.status.idle": "2020-12-19T01:37:03.863736Z",
     "shell.execute_reply": "2020-12-19T01:37:03.863084Z"
    },
    "papermill": {
     "duration": 0.717211,
     "end_time": "2020-12-19T01:37:03.863868",
     "exception": false,
     "start_time": "2020-12-19T01:37:03.146657",
     "status": "completed"
    },
    "tags": []
   },
   "outputs": [
    {
     "data": {
      "text/plain": [
       "Age              0.181\n",
       "Fare             0.146\n",
       "Sex              0.115\n",
       "Mr               0.093\n",
       "Miss             0.040\n",
       "                 ...  \n",
       "Dona             0.000\n",
       "Ticket_STONOQ    0.000\n",
       "Ticket_LP        0.000\n",
       "Ticket_SCA3      0.000\n",
       "Ticket_AQ4       0.000\n",
       "Length: 82, dtype: float64"
      ]
     },
     "execution_count": 36,
     "metadata": {},
     "output_type": "execute_result"
    }
   ],
   "source": [
    "# Tree-based model feature importance\n",
    "from sklearn.ensemble import RandomForestClassifier\n",
    "\n",
    "rf = RandomForestClassifier().fit(X_train, y_train)\n",
    "feature_importances = pd.Series(rf.feature_importances_, index=feature_names)\n",
    "feature_importances.sort_values(ascending=False).round(3)"
   ]
  },
  {
   "cell_type": "code",
   "execution_count": 37,
   "metadata": {
    "execution": {
     "iopub.execute_input": "2020-12-19T01:37:04.015303Z",
     "iopub.status.busy": "2020-12-19T01:37:04.006407Z",
     "iopub.status.idle": "2020-12-19T01:37:05.129352Z",
     "shell.execute_reply": "2020-12-19T01:37:05.129953Z"
    },
    "papermill": {
     "duration": 1.200827,
     "end_time": "2020-12-19T01:37:05.130113",
     "exception": false,
     "start_time": "2020-12-19T01:37:03.929286",
     "status": "completed"
    },
    "tags": []
   },
   "outputs": [
    {
     "data": {
      "text/plain": [
       "<matplotlib.axes._subplots.AxesSubplot at 0x7f9caba7c250>"
      ]
     },
     "execution_count": 37,
     "metadata": {},
     "output_type": "execute_result"
    },
    {
     "data": {
      "image/png": "[encoded data removed]",
      "text/plain": [
       "<Figure size 1800x1800 with 1 Axes>"
      ]
     },
     "metadata": {
      "needs_background": "light"
     },
     "output_type": "display_data"
    }
   ],
   "source": [
    "# Plot feature importances in a bar chart\n",
    "fig, ax = plt.subplots(1, 1, figsize=(25,25))\n",
    "feature_importances.sort_values().plot.barh(ax=ax)"
   ]
  },
  {
   "cell_type": "code",
   "execution_count": 38,
   "metadata": {
    "execution": {
     "iopub.execute_input": "2020-12-19T01:37:05.276967Z",
     "iopub.status.busy": "2020-12-19T01:37:05.276103Z",
     "iopub.status.idle": "2020-12-19T01:37:05.319742Z",
     "shell.execute_reply": "2020-12-19T01:37:05.319016Z"
    },
    "papermill": {
     "duration": 0.122261,
     "end_time": "2020-12-19T01:37:05.319869",
     "exception": false,
     "start_time": "2020-12-19T01:37:05.197608",
     "status": "completed"
    },
    "tags": []
   },
   "outputs": [],
   "source": [
    "# Use SelectFromModel to pick features of importance\n",
    "from sklearn.feature_selection import SelectFromModel\n",
    "\n",
    "sfm_rf = SelectFromModel(rf, prefit=True, threshold='mean')\n",
    "X_train_reduced = sfm_rf.transform(X_train)\n",
    "X_test_reduced = sfm_rf.transform(X_test)"
   ]
  },
  {
   "cell_type": "code",
   "execution_count": 39,
   "metadata": {
    "execution": {
     "iopub.execute_input": "2020-12-19T01:37:05.462803Z",
     "iopub.status.busy": "2020-12-19T01:37:05.460799Z",
     "iopub.status.idle": "2020-12-19T01:37:05.479993Z",
     "shell.execute_reply": "2020-12-19T01:37:05.479243Z"
    },
    "papermill": {
     "duration": 0.092344,
     "end_time": "2020-12-19T01:37:05.480119",
     "exception": false,
     "start_time": "2020-12-19T01:37:05.387775",
     "status": "completed"
    },
    "tags": []
   },
   "outputs": [
    {
     "name": "stdout",
     "output_type": "stream",
     "text": [
      "(891, 20)\n",
      "(418, 20)\n"
     ]
    }
   ],
   "source": [
    "print(X_train_reduced.shape)\n",
    "print(X_test_reduced.shape)\n",
    "reduced_features = feature_names[sfm_rf.get_support()]"
   ]
  },
  {
   "cell_type": "markdown",
   "metadata": {
    "papermill": {
     "duration": 0.066908,
     "end_time": "2020-12-19T01:37:05.619353",
     "exception": false,
     "start_time": "2020-12-19T01:37:05.552445",
     "status": "completed"
    },
    "tags": []
   },
   "source": [
    "## Scaling Data"
   ]
  },
  {
   "cell_type": "code",
   "execution_count": 40,
   "metadata": {
    "execution": {
     "iopub.execute_input": "2020-12-19T01:37:05.761856Z",
     "iopub.status.busy": "2020-12-19T01:37:05.761045Z",
     "iopub.status.idle": "2020-12-19T01:37:05.767523Z",
     "shell.execute_reply": "2020-12-19T01:37:05.766892Z"
    },
    "papermill": {
     "duration": 0.080836,
     "end_time": "2020-12-19T01:37:05.767657",
     "exception": false,
     "start_time": "2020-12-19T01:37:05.686821",
     "status": "completed"
    },
    "tags": []
   },
   "outputs": [],
   "source": [
    "# Scale data using StandardScaler \n",
    "from sklearn.preprocessing import StandardScaler\n",
    "\n",
    "ss = StandardScaler()\n",
    "X_train_reduced_scaled = pd.DataFrame(ss.fit_transform(X_train_reduced),columns=reduced_features)\n",
    "X_test_reduced_scaled = pd.DataFrame(ss.fit_transform(X_test_reduced),columns=reduced_features)"
   ]
  },
  {
   "cell_type": "markdown",
   "metadata": {
    "papermill": {
     "duration": 0.07414,
     "end_time": "2020-12-19T01:37:05.910326",
     "exception": false,
     "start_time": "2020-12-19T01:37:05.836186",
     "status": "completed"
    },
    "tags": []
   },
   "source": [
    "## Basic Model Building"
   ]
  },
  {
   "cell_type": "code",
   "execution_count": 41,
   "metadata": {
    "execution": {
     "iopub.execute_input": "2020-12-19T01:37:06.055187Z",
     "iopub.status.busy": "2020-12-19T01:37:06.054378Z",
     "iopub.status.idle": "2020-12-19T01:37:06.101233Z",
     "shell.execute_reply": "2020-12-19T01:37:06.100550Z"
    },
    "papermill": {
     "duration": 0.122582,
     "end_time": "2020-12-19T01:37:06.101365",
     "exception": false,
     "start_time": "2020-12-19T01:37:05.978783",
     "status": "completed"
    },
    "tags": []
   },
   "outputs": [],
   "source": [
    "# Use cross-validation scoring to get sense of model accuracy\n",
    "from sklearn.model_selection import cross_val_score\n",
    "\n",
    "from sklearn.ensemble import RandomForestClassifier\n",
    "from sklearn.neighbors import KNeighborsClassifier\n",
    "from sklearn.naive_bayes import GaussianNB\n",
    "from sklearn.linear_model import LogisticRegression, LogisticRegressionCV\n",
    "from sklearn.ensemble import GradientBoostingClassifier\n",
    "\n",
    "from sklearn.linear_model import LinearRegression\n",
    "from mlxtend.classifier import StackingClassifier\n",
    "from sklearn.svm import SVC\n",
    "\n",
    "from sklearn.model_selection import StratifiedKFold\n",
    "from sklearn.model_selection import GridSearchCV"
   ]
  },
  {
   "cell_type": "code",
   "execution_count": 42,
   "metadata": {
    "execution": {
     "iopub.execute_input": "2020-12-19T01:37:06.243808Z",
     "iopub.status.busy": "2020-12-19T01:37:06.242916Z",
     "iopub.status.idle": "2020-12-19T01:37:06.246167Z",
     "shell.execute_reply": "2020-12-19T01:37:06.245575Z"
    },
    "papermill": {
     "duration": 0.076488,
     "end_time": "2020-12-19T01:37:06.246301",
     "exception": false,
     "start_time": "2020-12-19T01:37:06.169813",
     "status": "completed"
    },
    "tags": []
   },
   "outputs": [],
   "source": [
    "# Score model function\n",
    "def score_model(model, X, y):\n",
    "    return cross_val_score(model, X, y, cv=5)"
   ]
  },
  {
   "cell_type": "code",
   "execution_count": 43,
   "metadata": {
    "execution": {
     "iopub.execute_input": "2020-12-19T01:37:06.392740Z",
     "iopub.status.busy": "2020-12-19T01:37:06.391756Z",
     "iopub.status.idle": "2020-12-19T01:37:06.394725Z",
     "shell.execute_reply": "2020-12-19T01:37:06.394086Z"
    },
    "papermill": {
     "duration": 0.079137,
     "end_time": "2020-12-19T01:37:06.394845",
     "exception": false,
     "start_time": "2020-12-19T01:37:06.315708",
     "status": "completed"
    },
    "tags": []
   },
   "outputs": [],
   "source": [
    "rfc = RandomForestClassifier(n_estimators=100, max_depth=5)\n",
    "knc = KNeighborsClassifier(n_neighbors=10)\n",
    "gnb = GaussianNB()\n",
    "lr = LogisticRegression(max_iter=2000)\n",
    "lr_cv = LogisticRegressionCV(max_iter=2000)\n",
    "gbc = GradientBoostingClassifier()\n",
    "svc = SVC(probability=True)"
   ]
  },
  {
   "cell_type": "code",
   "execution_count": 44,
   "metadata": {
    "execution": {
     "iopub.execute_input": "2020-12-19T01:37:06.540024Z",
     "iopub.status.busy": "2020-12-19T01:37:06.538976Z",
     "iopub.status.idle": "2020-12-19T01:37:10.993882Z",
     "shell.execute_reply": "2020-12-19T01:37:10.994424Z"
    },
    "papermill": {
     "duration": 4.531304,
     "end_time": "2020-12-19T01:37:10.994594",
     "exception": false,
     "start_time": "2020-12-19T01:37:06.463290",
     "status": "completed"
    },
    "tags": []
   },
   "outputs": [
    {
     "name": "stdout",
     "output_type": "stream",
     "text": [
      "Random Forest Classifier: 0.8282781997363632\n",
      "K Neighbors Classifier: 0.7957504237022157\n",
      "Gaussian NB: 0.7822798317745276\n",
      "Logistic Regression: 0.822666499278137\n",
      "Logistic Regression CV: 0.819295712761283\n",
      "Gradient Boosting Classifier: 0.8305128366078713\n",
      "Support Vector Classifier: 0.826037285794991\n"
     ]
    }
   ],
   "source": [
    "print(f'Random Forest Classifier: {np.mean(score_model(rfc, X_train_reduced_scaled, y_train))}')\n",
    "print(f'K Neighbors Classifier: {np.mean(score_model(knc, X_train_reduced_scaled, y_train))}')\n",
    "print(f'Gaussian NB: {np.mean(score_model(gnb, X_train_reduced_scaled, y_train))}')\n",
    "print(f'Logistic Regression: {np.mean(score_model(lr, X_train_reduced_scaled, y_train))}')\n",
    "print(f'Logistic Regression CV: {np.mean(score_model(lr_cv, X_train_reduced_scaled, y_train))}')\n",
    "print(f'Gradient Boosting Classifier: {np.mean(score_model(gbc, X_train_reduced_scaled, y_train))}')\n",
    "print(f'Support Vector Classifier: {np.mean(score_model(svc, X_train_reduced_scaled, y_train))}')"
   ]
  },
  {
   "cell_type": "markdown",
   "metadata": {
    "papermill": {
     "duration": 0.070188,
     "end_time": "2020-12-19T01:37:11.135427",
     "exception": false,
     "start_time": "2020-12-19T01:37:11.065239",
     "status": "completed"
    },
    "tags": []
   },
   "source": [
    "## Hyperparameters Tuning"
   ]
  },
  {
   "cell_type": "code",
   "execution_count": 45,
   "metadata": {
    "execution": {
     "iopub.execute_input": "2020-12-19T01:37:11.294343Z",
     "iopub.status.busy": "2020-12-19T01:37:11.293229Z",
     "iopub.status.idle": "2020-12-19T01:37:11.400861Z",
     "shell.execute_reply": "2020-12-19T01:37:11.400038Z"
    },
    "papermill": {
     "duration": 0.194646,
     "end_time": "2020-12-19T01:37:11.401001",
     "exception": false,
     "start_time": "2020-12-19T01:37:11.206355",
     "status": "completed"
    },
    "tags": []
   },
   "outputs": [],
   "source": [
    "run_gs_rfc = False\n",
    "\n",
    "if run_gs_rfc:\n",
    "    parameter_grid = {\n",
    "                 'max_depth' : [4, 6, 8],\n",
    "                 'n_estimators': [50, 10],\n",
    "                 'max_features': ['sqrt', 'auto', 'log2'],\n",
    "                 'min_samples_split': [2, 3, 10],\n",
    "                 'min_samples_leaf': [1, 3, 10],\n",
    "                 'bootstrap': [True, False],\n",
    "                 }\n",
    "    forest = RandomForestClassifier()\n",
    "    cross_validation = StratifiedKFold(n_splits=5)\n",
    "\n",
    "    grid_search_forest = GridSearchCV(forest,\n",
    "                               scoring='accuracy',\n",
    "                               param_grid=parameter_grid,\n",
    "                               cv=cross_validation,\n",
    "                               verbose=1\n",
    "                              )\n",
    "\n",
    "    grid_search_forest.fit(X_train_reduced_scaled, y_train)\n",
    "    model = grid_search_forest\n",
    "    parameters = grid_search_forest.best_params_\n",
    "\n",
    "    print('Best score: {}'.format(grid_search.best_score_))\n",
    "    print('Best parameters: {}'.format(grid_search.best_params_))\n",
    "    \n",
    "else: \n",
    "    parameters = {'bootstrap': False, 'min_samples_leaf': 3, 'n_estimators': 50, \n",
    "                  'min_samples_split': 10, 'max_features': 'sqrt', 'max_depth': 6}\n",
    "    \n",
    "    model = RandomForestClassifier(**parameters)\n",
    "    model.fit(X_train_reduced_scaled, y_train)"
   ]
  },
  {
   "cell_type": "markdown",
   "metadata": {
    "papermill": {
     "duration": 0.069861,
     "end_time": "2020-12-19T01:37:11.541306",
     "exception": false,
     "start_time": "2020-12-19T01:37:11.471445",
     "status": "completed"
    },
    "tags": []
   },
   "source": [
    "## 8. Ensemble Model Building"
   ]
  },
  {
   "cell_type": "code",
   "execution_count": 46,
   "metadata": {
    "execution": {
     "iopub.execute_input": "2020-12-19T01:37:11.690462Z",
     "iopub.status.busy": "2020-12-19T01:37:11.689658Z",
     "iopub.status.idle": "2020-12-19T01:37:13.708829Z",
     "shell.execute_reply": "2020-12-19T01:37:13.709448Z"
    },
    "papermill": {
     "duration": 2.0978,
     "end_time": "2020-12-19T01:37:13.709631",
     "exception": false,
     "start_time": "2020-12-19T01:37:11.611831",
     "status": "completed"
    },
    "tags": []
   },
   "outputs": [
    {
     "name": "stdout",
     "output_type": "stream",
     "text": [
      "Support Vector Classifier: 0.8305128366078713\n"
     ]
    }
   ],
   "source": [
    "ensemble = [RandomForestClassifier(bootstrap=False, \n",
    "                                  max_depth=4, \n",
    "                                  max_features='sqrt', \n",
    "                                  min_samples_leaf=1, \n",
    "                                  min_samples_split=3, \n",
    "                                  n_estimators=50),\n",
    "           gbc,\n",
    "           svc]\n",
    "\n",
    "stc = StackingClassifier(ensemble, LogisticRegression())\n",
    "\n",
    "print(f'Support Vector Classifier: {np.mean(score_model(stc, X_train_reduced_scaled, y_train))}')\n"
   ]
  },
  {
   "cell_type": "markdown",
   "metadata": {
    "papermill": {
     "duration": 0.074437,
     "end_time": "2020-12-19T01:37:13.855830",
     "exception": false,
     "start_time": "2020-12-19T01:37:13.781393",
     "status": "completed"
    },
    "tags": []
   },
   "source": [
    "## 9. Results"
   ]
  },
  {
   "cell_type": "code",
   "execution_count": 47,
   "metadata": {
    "execution": {
     "iopub.execute_input": "2020-12-19T01:37:14.017583Z",
     "iopub.status.busy": "2020-12-19T01:37:14.016731Z",
     "iopub.status.idle": "2020-12-19T01:37:14.428677Z",
     "shell.execute_reply": "2020-12-19T01:37:14.427929Z"
    },
    "papermill": {
     "duration": 0.500306,
     "end_time": "2020-12-19T01:37:14.428815",
     "exception": false,
     "start_time": "2020-12-19T01:37:13.928509",
     "status": "completed"
    },
    "tags": []
   },
   "outputs": [
    {
     "name": "stdout",
     "output_type": "stream",
     "text": [
      "Your submission was successfully saved!\n"
     ]
    }
   ],
   "source": [
    "# Predictions using stacking classifier\n",
    "\n",
    "# gbc.fit(X_train_reduced_scaled, y_train)\n",
    "predictions = model.predict(X_test_reduced_scaled) \n",
    "\n",
    "output = pd.DataFrame({'PassengerId':test_data.PassengerId, 'Survived':predictions})\n",
    "output['Survived'] = output['Survived'].astype(int)\n",
    "output.to_csv('mysubmission.csv', index=False)\n",
    "\n",
    "print(\"Your submission was successfully saved!\")"
   ]
  }
 ],
 "metadata": {
  "kernelspec": {
   "display_name": "Python 3",
   "language": "python",
   "name": "python3"
  },
  "language_info": {
   "codemirror_mode": {
    "name": "ipython",
    "version": 3
   },
   "file_extension": ".py",
   "mimetype": "text/x-python",
   "name": "python",
   "nbconvert_exporter": "python",
   "pygments_lexer": "ipython3",
   "version": "3.7.6"
  },
  "papermill": {
   "duration": 35.305399,
   "end_time": "2020-12-19T01:37:14.608016",
   "environment_variables": {},
   "exception": null,
   "input_path": "__notebook__.ipynb",
   "output_path": "__notebook__.ipynb",
   "parameters": {},
   "start_time": "2020-12-19T01:36:39.302617",
   "version": "2.1.0"
  }
 },
 "nbformat": 4,
 "nbformat_minor": 4
}
